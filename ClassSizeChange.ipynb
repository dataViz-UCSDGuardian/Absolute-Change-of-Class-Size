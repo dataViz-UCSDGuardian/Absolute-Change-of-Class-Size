{
 "cells": [
  {
   "cell_type": "code",
   "execution_count": 153,
   "metadata": {
    "collapsed": false
   },
   "outputs": [],
   "source": [
    "import pandas as pd\n",
    "import numpy as np\n",
    "import matplotlib.pyplot as plt\n",
    "import plotly.plotly as py\n",
    "import plotly.graph_objs as go\n",
    "import plotly\n",
    "\n",
    "plotly.tools.set_credentials_file(username='zevida', api_key='t5jq9fhv4b')"
   ]
  },
  {
   "cell_type": "code",
   "execution_count": 154,
   "metadata": {
    "collapsed": false
   },
   "outputs": [
    {
     "data": {
      "text/html": [
       "<div>\n",
       "<table border=\"1\" class=\"dataframe\">\n",
       "  <thead>\n",
       "    <tr style=\"text-align: right;\">\n",
       "      <th></th>\n",
       "      <th>100 +</th>\n",
       "      <th>50 - 99</th>\n",
       "      <th>40 - 49</th>\n",
       "      <th>30 - 39</th>\n",
       "      <th>20 - 29</th>\n",
       "      <th>10 - 19</th>\n",
       "      <th>2 - 9</th>\n",
       "      <th>Total</th>\n",
       "    </tr>\n",
       "  </thead>\n",
       "  <tbody>\n",
       "    <tr>\n",
       "      <th>0</th>\n",
       "      <td>232</td>\n",
       "      <td>169</td>\n",
       "      <td>53</td>\n",
       "      <td>73</td>\n",
       "      <td>195</td>\n",
       "      <td>410</td>\n",
       "      <td>201</td>\n",
       "      <td>1333</td>\n",
       "    </tr>\n",
       "    <tr>\n",
       "      <th>1</th>\n",
       "      <td>270</td>\n",
       "      <td>161</td>\n",
       "      <td>59</td>\n",
       "      <td>99</td>\n",
       "      <td>214</td>\n",
       "      <td>435</td>\n",
       "      <td>175</td>\n",
       "      <td>1413</td>\n",
       "    </tr>\n",
       "    <tr>\n",
       "      <th>2</th>\n",
       "      <td>284</td>\n",
       "      <td>152</td>\n",
       "      <td>51</td>\n",
       "      <td>116</td>\n",
       "      <td>203</td>\n",
       "      <td>459</td>\n",
       "      <td>178</td>\n",
       "      <td>1443</td>\n",
       "    </tr>\n",
       "    <tr>\n",
       "      <th>3</th>\n",
       "      <td>298</td>\n",
       "      <td>139</td>\n",
       "      <td>75</td>\n",
       "      <td>120</td>\n",
       "      <td>228</td>\n",
       "      <td>444</td>\n",
       "      <td>176</td>\n",
       "      <td>1480</td>\n",
       "    </tr>\n",
       "    <tr>\n",
       "      <th>4</th>\n",
       "      <td>300</td>\n",
       "      <td>171</td>\n",
       "      <td>70</td>\n",
       "      <td>109</td>\n",
       "      <td>219</td>\n",
       "      <td>416</td>\n",
       "      <td>167</td>\n",
       "      <td>1452</td>\n",
       "    </tr>\n",
       "    <tr>\n",
       "      <th>5</th>\n",
       "      <td>313</td>\n",
       "      <td>163</td>\n",
       "      <td>48</td>\n",
       "      <td>110</td>\n",
       "      <td>218</td>\n",
       "      <td>417</td>\n",
       "      <td>145</td>\n",
       "      <td>1414</td>\n",
       "    </tr>\n",
       "    <tr>\n",
       "      <th>6</th>\n",
       "      <td>311</td>\n",
       "      <td>164</td>\n",
       "      <td>45</td>\n",
       "      <td>110</td>\n",
       "      <td>224</td>\n",
       "      <td>378</td>\n",
       "      <td>130</td>\n",
       "      <td>1362</td>\n",
       "    </tr>\n",
       "    <tr>\n",
       "      <th>7</th>\n",
       "      <td>298</td>\n",
       "      <td>181</td>\n",
       "      <td>40</td>\n",
       "      <td>101</td>\n",
       "      <td>227</td>\n",
       "      <td>405</td>\n",
       "      <td>119</td>\n",
       "      <td>1371</td>\n",
       "    </tr>\n",
       "    <tr>\n",
       "      <th>8</th>\n",
       "      <td>313</td>\n",
       "      <td>173</td>\n",
       "      <td>64</td>\n",
       "      <td>88</td>\n",
       "      <td>203</td>\n",
       "      <td>406</td>\n",
       "      <td>148</td>\n",
       "      <td>1395</td>\n",
       "    </tr>\n",
       "    <tr>\n",
       "      <th>9</th>\n",
       "      <td>326</td>\n",
       "      <td>171</td>\n",
       "      <td>48</td>\n",
       "      <td>97</td>\n",
       "      <td>222</td>\n",
       "      <td>399</td>\n",
       "      <td>133</td>\n",
       "      <td>1396</td>\n",
       "    </tr>\n",
       "    <tr>\n",
       "      <th>10</th>\n",
       "      <td>352</td>\n",
       "      <td>198</td>\n",
       "      <td>54</td>\n",
       "      <td>102</td>\n",
       "      <td>240</td>\n",
       "      <td>394</td>\n",
       "      <td>117</td>\n",
       "      <td>1457</td>\n",
       "    </tr>\n",
       "  </tbody>\n",
       "</table>\n",
       "</div>"
      ],
      "text/plain": [
       "    100 +  50 - 99  40 - 49  30 - 39  20 - 29  10 - 19  2 - 9  Total\n",
       "0     232      169       53       73      195      410    201   1333\n",
       "1     270      161       59       99      214      435    175   1413\n",
       "2     284      152       51      116      203      459    178   1443\n",
       "3     298      139       75      120      228      444    176   1480\n",
       "4     300      171       70      109      219      416    167   1452\n",
       "5     313      163       48      110      218      417    145   1414\n",
       "6     311      164       45      110      224      378    130   1362\n",
       "7     298      181       40      101      227      405    119   1371\n",
       "8     313      173       64       88      203      406    148   1395\n",
       "9     326      171       48       97      222      399    133   1396\n",
       "10    352      198       54      102      240      394    117   1457"
      ]
     },
     "execution_count": 154,
     "metadata": {},
     "output_type": "execute_result"
    }
   ],
   "source": [
    "# get the datafame of class size\n",
    "class_size = pd.read_excel(\"classSize.xlsx\")\n",
    "del class_size[\"years\"]\n",
    "class_size"
   ]
  },
  {
   "cell_type": "code",
   "execution_count": 155,
   "metadata": {
    "collapsed": false
   },
   "outputs": [],
   "source": [
    "# get the value of each class size \n",
    "over_one_hundred = class_size[\"100 +\"]\n",
    "fifty_ninetynine = class_size[\"50 - 99\"]\n",
    "fourty_fourtynine = class_size[\"40 - 49\"]\n",
    "thirty_thirtynine = class_size[\"30 - 39\"]\n",
    "twenty_twentynine = class_size[\"20 - 29\"]\n",
    "ten_ninteen = class_size[\"10 - 19\"]\n",
    "two_nine = class_size[\"2 - 9\"]"
   ]
  },
  {
   "cell_type": "code",
   "execution_count": 156,
   "metadata": {
    "collapsed": false
   },
   "outputs": [
    {
     "data": {
      "text/plain": [
       "[0, 38, 52, 66, 68, 81, 79, 66, 81, 94, 120]"
      ]
     },
     "execution_count": 156,
     "metadata": {},
     "output_type": "execute_result"
    }
   ],
   "source": [
    "# absolute value change for class size over 100\n",
    "list_over_one_hundred = []\n",
    "for each_over_one_hundred in over_one_hundred:\n",
    "    list_over_one_hundred.append(each_over_one_hundred - over_one_hundred[0])\n",
    "list_over_one_hundred"
   ]
  },
  {
   "cell_type": "code",
   "execution_count": 157,
   "metadata": {
    "collapsed": false
   },
   "outputs": [
    {
     "data": {
      "text/plain": [
       "[0, -8, -17, -30, 2, -6, -5, 12, 4, 2, 29]"
      ]
     },
     "execution_count": 157,
     "metadata": {},
     "output_type": "execute_result"
    }
   ],
   "source": [
    "# absolute value change for class size between 50 - 99\n",
    "list_fifty_ninetynine = []\n",
    "for each_fifty_ninetynine in fifty_ninetynine:\n",
    "    list_fifty_ninetynine.append(each_fifty_ninetynine - fifty_ninetynine[0])\n",
    "list_fifty_ninetynine"
   ]
  },
  {
   "cell_type": "code",
   "execution_count": 158,
   "metadata": {
    "collapsed": false
   },
   "outputs": [
    {
     "data": {
      "text/plain": [
       "[0, 6, -2, 22, 17, -5, -8, -13, 11, -5, 1]"
      ]
     },
     "execution_count": 158,
     "metadata": {},
     "output_type": "execute_result"
    }
   ],
   "source": [
    "# absolute value change for class size between 40 - 49\n",
    "list_fourty_fourtynine = []\n",
    "for each_fourty_fourtynine in fourty_fourtynine:\n",
    "    list_fourty_fourtynine.append(each_fourty_fourtynine - fourty_fourtynine[0])\n",
    "list_fourty_fourtynine"
   ]
  },
  {
   "cell_type": "code",
   "execution_count": 159,
   "metadata": {
    "collapsed": false
   },
   "outputs": [
    {
     "data": {
      "text/plain": [
       "[0, 26, 43, 47, 36, 37, 37, 28, 15, 24, 29]"
      ]
     },
     "execution_count": 159,
     "metadata": {},
     "output_type": "execute_result"
    }
   ],
   "source": [
    "# absolute value change for class size between 30 - 39\n",
    "list_thirty_thirtynine = []\n",
    "for each_thirty_thirtynine in thirty_thirtynine:\n",
    "    list_thirty_thirtynine.append(each_thirty_thirtynine - thirty_thirtynine[0])\n",
    "list_thirty_thirtynine"
   ]
  },
  {
   "cell_type": "code",
   "execution_count": 160,
   "metadata": {
    "collapsed": false
   },
   "outputs": [
    {
     "data": {
      "text/plain": [
       "[0, 19, 8, 33, 24, 23, 29, 32, 8, 27, 45]"
      ]
     },
     "execution_count": 160,
     "metadata": {},
     "output_type": "execute_result"
    }
   ],
   "source": [
    "# absolute value change for class size between 20 - 29\n",
    "list_twenty_twentynine = []\n",
    "for each_twenty_twentynine in twenty_twentynine:\n",
    "    list_twenty_twentynine.append(each_twenty_twentynine - twenty_twentynine[0])\n",
    "list_twenty_twentynine"
   ]
  },
  {
   "cell_type": "code",
   "execution_count": 161,
   "metadata": {
    "collapsed": false
   },
   "outputs": [
    {
     "data": {
      "text/plain": [
       "[0, 25, 49, 34, 6, 7, -32, -5, -4, -11, -16]"
      ]
     },
     "execution_count": 161,
     "metadata": {},
     "output_type": "execute_result"
    }
   ],
   "source": [
    "# absolute value change for class size between 10 - 19\n",
    "list_ten_ninteen = []\n",
    "for each_ten_ninteen in ten_ninteen:\n",
    "    list_ten_ninteen.append(each_ten_ninteen - ten_ninteen[0])\n",
    "list_ten_ninteen"
   ]
  },
  {
   "cell_type": "code",
   "execution_count": 162,
   "metadata": {
    "collapsed": false
   },
   "outputs": [
    {
     "data": {
      "text/plain": [
       "[0, -26, -23, -25, -34, -56, -71, -82, -53, -68, -84]"
      ]
     },
     "execution_count": 162,
     "metadata": {},
     "output_type": "execute_result"
    }
   ],
   "source": [
    "# absolute value change for class size between 2 - 9\n",
    "list_two_nine = []\n",
    "for each_two_nine in two_nine:\n",
    "    list_two_nine.append(each_two_nine - two_nine[0])\n",
    "list_two_nine"
   ]
  },
  {
   "cell_type": "code",
   "execution_count": 163,
   "metadata": {
    "collapsed": false
   },
   "outputs": [],
   "source": [
    "trace0 = go.Scatter(\n",
    "    x = ['2005 - 2006', '2006 - 2007', '2007 - 2008', '2008 - 2009', '2009 - 2010', '2010 - 2011', '2011 - 2012', '2012 - 2013', '2013 - 2014', '2014 - 2015', '2015 - 2016'],\n",
    "    y = list_over_one_hundred,\n",
    "    mode = 'lines',\n",
    "    name = '100+',\n",
    "    line = dict(\n",
    "        color = ('#8cba19'),\n",
    "        width = 3)\n",
    ")"
   ]
  },
  {
   "cell_type": "code",
   "execution_count": 164,
   "metadata": {
    "collapsed": true
   },
   "outputs": [],
   "source": [
    "trace1 = go.Scatter(\n",
    "    x = ['2005 - 2006', '2006 - 2007', '2007 - 2008', '2008 - 2009', '2009 - 2010', '2010 - 2011', '2011 - 2012', '2012 - 2013', '2013 - 2014', '2014 - 2015', '2015 - 2016'],\n",
    "    y = list_fifty_ninetynine,\n",
    "    mode = 'lines',\n",
    "    name = '50-99',\n",
    "    line = dict(\n",
    "        color = ('#ff9c00'),\n",
    "        width = 3)\n",
    ")"
   ]
  },
  {
   "cell_type": "code",
   "execution_count": 165,
   "metadata": {
    "collapsed": true
   },
   "outputs": [],
   "source": [
    "trace2 = go.Scatter(\n",
    "    x = ['2005 - 2006', '2006 - 2007', '2007 - 2008', '2008 - 2009', '2009 - 2010', '2010 - 2011', '2011 - 2012', '2012 - 2013', '2013 - 2014', '2014 - 2015', '2015 - 2016'],\n",
    "    y = list_fourty_fourtynine,\n",
    "    mode = 'lines',\n",
    "    name = '40-49',\n",
    "    line = dict(\n",
    "        color = ('#ffb846'),\n",
    "        width = 3)\n",
    ")"
   ]
  },
  {
   "cell_type": "code",
   "execution_count": 166,
   "metadata": {
    "collapsed": true
   },
   "outputs": [],
   "source": [
    "trace3 = go.Scatter(\n",
    "    x = ['2005 - 2006', '2006 - 2007', '2007 - 2008', '2008 - 2009', '2009 - 2010', '2010 - 2011', '2011 - 2012', '2012 - 2013', '2013 - 2014', '2014 - 2015', '2015 - 2016'],\n",
    "    y = list_thirty_thirtynine,\n",
    "    mode = 'lines',\n",
    "    name = '30-39',\n",
    "    line = dict(\n",
    "        color = ('#ffd35e'),\n",
    "        width = 3)\n",
    ")"
   ]
  },
  {
   "cell_type": "code",
   "execution_count": 167,
   "metadata": {
    "collapsed": true
   },
   "outputs": [],
   "source": [
    "trace4 = go.Scatter(\n",
    "    x = ['2005 - 2006', '2006 - 2007', '2007 - 2008', '2008 - 2009', '2009 - 2010', '2010 - 2011', '2011 - 2012', '2012 - 2013', '2013 - 2014', '2014 - 2015', '2015 - 2016'],\n",
    "    y = list_twenty_twentynine,\n",
    "    mode = 'lines',\n",
    "    name = '20-29',\n",
    "    line = dict(\n",
    "        color = ('#fef3a1'),\n",
    "        width = 3)\n",
    ")"
   ]
  },
  {
   "cell_type": "code",
   "execution_count": 172,
   "metadata": {
    "collapsed": true
   },
   "outputs": [],
   "source": [
    "trace5 = go.Scatter(\n",
    "    x = ['2005 - 2006', '2006 - 2007', '2007 - 2008', '2008 - 2009', '2009 - 2010', '2010 - 2011', '2011 - 2012', '2012 - 2013', '2013 - 2014', '2014 - 2015', '2015 - 2016'],\n",
    "    y = list_ten_ninteen,\n",
    "    mode = 'lines',\n",
    "    name = '10-19',\n",
    "    line = dict(\n",
    "        color = ('#f86d72'),\n",
    "        width = 3)\n",
    ")"
   ]
  },
  {
   "cell_type": "code",
   "execution_count": 169,
   "metadata": {
    "collapsed": true
   },
   "outputs": [],
   "source": [
    "trace6 = go.Scatter(\n",
    "    x = ['2005 - 2006', '2006 - 2007', '2007 - 2008', '2008 - 2009', '2009 - 2010', '2010 - 2011', '2011 - 2012', '2012 - 2013', '2013 - 2014', '2014 - 2015', '2015 - 2016'],\n",
    "    y = list_two_nine,\n",
    "    mode = 'lines',\n",
    "    name = '2-9',\n",
    "    line = dict(\n",
    "        color = ('#e94345'),\n",
    "        width = 3)\n",
    ")"
   ]
  },
  {
   "cell_type": "code",
   "execution_count": 174,
   "metadata": {
    "collapsed": false,
    "scrolled": true
   },
   "outputs": [
    {
     "data": {
      "text/html": [
       "<iframe id=\"igraph\" scrolling=\"no\" style=\"border:none;\" seamless=\"seamless\" src=\"https://plot.ly/~zevida/20.embed\" height=\"525px\" width=\"100%\"></iframe>"
      ],
      "text/plain": [
       "<plotly.tools.PlotlyDisplay object>"
      ]
     },
     "execution_count": 174,
     "metadata": {},
     "output_type": "execute_result"
    }
   ],
   "source": [
    "data = [trace0, trace1, trace2, trace3, trace4, trace5, trace6]\n",
    "\n",
    "# Edit the layout\n",
    "layout = dict(title = 'Absolute Change of the Class Size over Past Ten Years',\n",
    "              yaxis = dict(title = 'Change the Number of Classes'),\n",
    "              )\n",
    "\n",
    "# Plot and embed in ipython notebook!\n",
    "fig = dict(data=data, layout=layout)\n",
    "py.iplot(fig, filename='Absolute Change of the Class Size')"
   ]
  },
  {
   "cell_type": "code",
   "execution_count": 171,
   "metadata": {
    "collapsed": false,
    "scrolled": true
   },
   "outputs": [],
   "source": [
    "# fig, ax = plt.subplots()\n",
    "\n",
    "# # ax.stackplot(x, over_one_hundred, over_fifty, over_fourty, over_thirty, over_twenty, over_ten, over_two)\n",
    "# plt.title('Change of class size from 2005 to 2015')\n",
    "# plt.plot([],[],color='#F99157', label='100+', linewidth=5)\n",
    "# plt.plot([],[],color='#FAC863', label='50 - 99', linewidth=5)\n",
    "# plt.plot([],[],color='#99C794', label='40 - 49', linewidth=5)\n",
    "# plt.plot([],[],color='#5FB3B3', label='30 - 39', linewidth=5)\n",
    "# plt.plot([],[],color='#6699CC', label='20 - 29', linewidth=5)\n",
    "# plt.plot([],[],color='#C594C5', label='10 - 19', linewidth=5)\n",
    "# plt.plot([],[],color='#AB7967', label='2 - 9', linewidth=5)\n",
    "\n",
    "# ax.fill_between(x, 0, y_stack[0,:], facecolor=\"#F99157\", alpha=.7)\n",
    "# ax.fill_between(x, y_stack[0,:], y_stack[1,:], facecolor=\"#FAC863\", alpha=.7)\n",
    "# ax.fill_between(x, y_stack[1,:], y_stack[2,:], facecolor=\"#99C794\", alpha=.7)\n",
    "# ax.fill_between(x, y_stack[2,:], y_stack[3,:], facecolor=\"#5FB3B3\")\n",
    "# ax.fill_between(x, y_stack[3,:], y_stack[4,:], facecolor=\"#6699CC\")\n",
    "# ax.fill_between(x, y_stack[4,:], y_stack[5,:], facecolor=\"#C594C5\")\n",
    "# ax.fill_between(x, y_stack[5,:], y_stack[6,:], facecolor=\"#AB7967\")\n",
    "\n",
    "\n",
    "# plt.legend()\n",
    "# plt.show()"
   ]
  },
  {
   "cell_type": "code",
   "execution_count": null,
   "metadata": {
    "collapsed": true
   },
   "outputs": [],
   "source": []
  },
  {
   "cell_type": "code",
   "execution_count": null,
   "metadata": {
    "collapsed": true
   },
   "outputs": [],
   "source": []
  }
 ],
 "metadata": {
  "anaconda-cloud": {},
  "kernelspec": {
   "display_name": "Python [default]",
   "language": "python",
   "name": "python3"
  },
  "language_info": {
   "codemirror_mode": {
    "name": "ipython",
    "version": 3
   },
   "file_extension": ".py",
   "mimetype": "text/x-python",
   "name": "python",
   "nbconvert_exporter": "python",
   "pygments_lexer": "ipython3",
   "version": "3.5.2"
  }
 },
 "nbformat": 4,
 "nbformat_minor": 1
}
